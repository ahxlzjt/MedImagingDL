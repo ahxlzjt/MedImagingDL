{
  "nbformat": 4,
  "nbformat_minor": 0,
  "metadata": {
    "colab": {
      "provenance": []
    },
    "kernelspec": {
      "name": "python3",
      "display_name": "Python 3"
    },
    "language_info": {
      "name": "python"
    }
  },
  "cells": [
    {
      "cell_type": "code",
      "execution_count": null,
      "metadata": {
        "id": "lNNJ0IYfQSzw"
      },
      "outputs": [],
      "source": [
        "from sklearn.datasets import fetch_openml\n",
        "dataset = fetch_openml('mnist_784', parser='auto')"
      ]
    },
    {
      "cell_type": "code",
      "source": [
        "import numpy as np\n",
        "import torch\n",
        "X = torch.tensor(dataset.data.to_numpy(np.float32))\n",
        "y = torch.tensor(dataset.target.to_numpy(np.int64))"
      ],
      "metadata": {
        "id": "3IkPqBBiQhs4"
      },
      "execution_count": null,
      "outputs": []
    },
    {
      "cell_type": "code",
      "source": [
        "X = X.reshape(-1, 1, 28, 28) # 나머지 전부 # 1: 흑백 CHANNEL\n",
        "X.shape"
      ],
      "metadata": {
        "colab": {
          "base_uri": "https://localhost:8080/"
        },
        "id": "6TIOvAPdcMl5",
        "outputId": "45b2aee9-d51f-49b8-f3f9-90aae4e9d938"
      },
      "execution_count": null,
      "outputs": [
        {
          "output_type": "execute_result",
          "data": {
            "text/plain": [
              "torch.Size([70000, 1, 28, 28])"
            ]
          },
          "metadata": {},
          "execution_count": 10
        }
      ]
    },
    {
      "cell_type": "code",
      "source": [
        "import matplotlib.pyplot as plt\n",
        "\n",
        "for i in range(5):\n",
        "  image = X[i, 0] # CHANNEL에서 0번 째 데이터를 가져와 CHANNEL 없앰.\n",
        "  plt.imshow(image, cmap = \"binary\")\n",
        "  plt.axis(\"off\")\n",
        "  plt.show()"
      ],
      "metadata": {
        "colab": {
          "base_uri": "https://localhost:8080/",
          "height": 1000
        },
        "id": "j7V17MQzcR52",
        "outputId": "5c3af164-db78-41f2-cef5-24388b8d29e2"
      },
      "execution_count": null,
      "outputs": [
        {
          "output_type": "display_data",
          "data": {
            "text/plain": [
              "<Figure size 640x480 with 1 Axes>"
            ],
            "image/png": "[encoded data removed]"
          },
          "metadata": {}
        },
        {
          "output_type": "display_data",
          "data": {
            "text/plain": [
              "<Figure size 640x480 with 1 Axes>"
            ],
            "image/png": "[encoded data removed]"
          },
          "metadata": {}
        },
        {
          "output_type": "display_data",
          "data": {
            "text/plain": [
              "<Figure size 640x480 with 1 Axes>"
            ],
            "image/png": "[encoded data removed]"
          },
          "metadata": {}
        },
        {
          "output_type": "display_data",
          "data": {
            "text/plain": [
              "<Figure size 640x480 with 1 Axes>"
            ],
            "image/png": "[encoded data removed]"
          },
          "metadata": {}
        },
        {
          "output_type": "display_data",
          "data": {
            "text/plain": [
              "<Figure size 640x480 with 1 Axes>"
            ],
            "image/png": "[encoded data removed]"
          },
          "metadata": {}
        }
      ]
    },
    {
      "cell_type": "code",
      "source": [
        "import torch.nn as nn\n",
        "import torch.nn.functional as F\n",
        "\n",
        "class CNN(nn.Module):\n",
        "    def __init__(self, hidden_units):\n",
        "        super().__init__()\n",
        "        self.conv1 = nn.Conv2d(1, 6, 3) # 2차원, 입력, 출력, 커널 사이즈 3X3 -> strde 자동 1\n",
        "        self.pool = nn.MaxPool2d(2, 2) # kernel 2x2 / stride 2\n",
        "        self.conv2 = nn.Conv2d(6, 16, 3) # Maxpool layer를 새로 정의 x, 그대로 사용\n",
        "        self.fc1 = nn.Linear(16 * 5 * 5, hidden_units) # 마지막 pooling layer를 print해서 FCL의 입력 설정\n",
        "        self.fc2 = nn.Linear(hidden_units, 10)\n",
        "\n",
        "    def forward(self, x): # activation func\n",
        "        x = self.pool(F.relu(self.conv1(x)))\n",
        "        x = self.pool(F.relu(self.conv2(x)))\n",
        "        x = torch.flatten(x, 1)\n",
        "        x = F.relu(self.fc1(x))\n",
        "        x = self.fc2(x)\n",
        "        return x"
      ],
      "metadata": {
        "id": "gUmlwF9RTu-o"
      },
      "execution_count": null,
      "outputs": []
    },
    {
      "cell_type": "code",
      "source": [
        "model = CNN(100)\n",
        "optimizer = torch.optim.SGD(model.parameters(), lr=0.01)\n",
        "criterion = nn.CrossEntropyLoss()"
      ],
      "metadata": {
        "id": "KA_nbEa5URhG"
      },
      "execution_count": null,
      "outputs": []
    },
    {
      "cell_type": "code",
      "source": [
        "def train(model, optimizer, criterion):\n",
        "  for epoch in range(100):\n",
        "    y_pred = model(X)\n",
        "\n",
        "    loss = criterion(y_pred, y)\n",
        "    print(f\"Epoch: {epoch} / Loss: {loss}\")\n",
        "\n",
        "    optimizer.zero_grad()\n",
        "    loss.backward()\n",
        "    optimizer.step()\n",
        "\n",
        "train(model, optimizer, criterion)"
      ],
      "metadata": {
        "colab": {
          "base_uri": "https://localhost:8080/"
        },
        "id": "_zhPAMEPUz6q",
        "outputId": "f0701e27-1f75-4707-ad5f-95592f7334b4"
      },
      "execution_count": null,
      "outputs": [
        {
          "output_type": "stream",
          "name": "stdout",
          "text": [
            "Epoch: 0 / Loss: 9.70373249053955\n",
            "Epoch: 1 / Loss: 17.134521484375\n",
            "Epoch: 2 / Loss: 5.508296966552734\n",
            "Epoch: 3 / Loss: 2.748676300048828\n",
            "Epoch: 4 / Loss: 2.4977126121520996\n",
            "Epoch: 5 / Loss: 2.405489683151245\n",
            "Epoch: 6 / Loss: 2.356814384460449\n",
            "Epoch: 7 / Loss: 2.3263914585113525\n",
            "Epoch: 8 / Loss: 2.30499005317688\n",
            "Epoch: 9 / Loss: 2.288329839706421\n",
            "Epoch: 10 / Loss: 2.274331569671631\n",
            "Epoch: 11 / Loss: 2.261767625808716\n",
            "Epoch: 12 / Loss: 2.249920606613159\n",
            "Epoch: 13 / Loss: 2.2383077144622803\n",
            "Epoch: 14 / Loss: 2.2265710830688477\n",
            "Epoch: 15 / Loss: 2.214447259902954\n",
            "Epoch: 16 / Loss: 2.2016663551330566\n",
            "Epoch: 17 / Loss: 2.187934637069702\n",
            "Epoch: 18 / Loss: 2.173050880432129\n",
            "Epoch: 19 / Loss: 2.15669846534729\n",
            "Epoch: 20 / Loss: 2.1385867595672607\n",
            "Epoch: 21 / Loss: 2.118387460708618\n",
            "Epoch: 22 / Loss: 2.0956599712371826\n",
            "Epoch: 23 / Loss: 2.070011854171753\n",
            "Epoch: 24 / Loss: 2.0409090518951416\n",
            "Epoch: 25 / Loss: 2.007625102996826\n",
            "Epoch: 26 / Loss: 1.9697120189666748\n",
            "Epoch: 27 / Loss: 1.926307201385498\n",
            "Epoch: 28 / Loss: 1.8766839504241943\n",
            "Epoch: 29 / Loss: 1.8201332092285156\n",
            "Epoch: 30 / Loss: 1.7561540603637695\n",
            "Epoch: 31 / Loss: 1.684747338294983\n",
            "Epoch: 32 / Loss: 1.6063246726989746\n",
            "Epoch: 33 / Loss: 1.5218548774719238\n",
            "Epoch: 34 / Loss: 1.4333828687667847\n",
            "Epoch: 35 / Loss: 1.3433555364608765\n",
            "Epoch: 36 / Loss: 1.2544525861740112\n",
            "Epoch: 37 / Loss: 1.16934335231781\n",
            "Epoch: 38 / Loss: 1.0901342630386353\n",
            "Epoch: 39 / Loss: 1.0179132223129272\n",
            "Epoch: 40 / Loss: 0.9532279968261719\n",
            "Epoch: 41 / Loss: 0.8957629203796387\n",
            "Epoch: 42 / Loss: 0.8451679348945618\n",
            "Epoch: 43 / Loss: 0.80203777551651\n",
            "Epoch: 44 / Loss: 0.7747743129730225\n",
            "Epoch: 45 / Loss: 0.8291638493537903\n",
            "Epoch: 46 / Loss: 1.3576689958572388\n",
            "Epoch: 47 / Loss: 2.88263201713562\n",
            "Epoch: 48 / Loss: 1.2304617166519165\n",
            "Epoch: 49 / Loss: 0.9199128150939941\n",
            "Epoch: 50 / Loss: 0.7530018091201782\n",
            "Epoch: 51 / Loss: 0.6882086992263794\n",
            "Epoch: 52 / Loss: 0.6430532932281494\n",
            "Epoch: 53 / Loss: 0.6084704399108887\n",
            "Epoch: 54 / Loss: 0.5807577967643738\n",
            "Epoch: 55 / Loss: 0.5577437281608582\n",
            "Epoch: 56 / Loss: 0.538053572177887\n",
            "Epoch: 57 / Loss: 0.5208962559700012\n",
            "Epoch: 58 / Loss: 0.5057092905044556\n",
            "Epoch: 59 / Loss: 0.4921191334724426\n",
            "Epoch: 60 / Loss: 0.4798484444618225\n",
            "Epoch: 61 / Loss: 0.4686563014984131\n",
            "Epoch: 62 / Loss: 0.45835819840431213\n",
            "Epoch: 63 / Loss: 0.4488360285758972\n",
            "Epoch: 64 / Loss: 0.4399985074996948\n",
            "Epoch: 65 / Loss: 0.43176141381263733\n",
            "Epoch: 66 / Loss: 0.42404991388320923\n",
            "Epoch: 67 / Loss: 0.41680654883384705\n",
            "Epoch: 68 / Loss: 0.4099881052970886\n",
            "Epoch: 69 / Loss: 0.40357881784439087\n",
            "Epoch: 70 / Loss: 0.3976071774959564\n",
            "Epoch: 71 / Loss: 0.39214903116226196\n",
            "Epoch: 72 / Loss: 0.38744601607322693\n",
            "Epoch: 73 / Loss: 0.3842788636684418\n",
            "Epoch: 74 / Loss: 0.38432466983795166\n",
            "Epoch: 75 / Loss: 0.39358246326446533\n",
            "Epoch: 76 / Loss: 0.4214490056037903\n",
            "Epoch: 77 / Loss: 0.5094701647758484\n",
            "Epoch: 78 / Loss: 0.6291882395744324\n",
            "Epoch: 79 / Loss: 0.7202003598213196\n",
            "Epoch: 80 / Loss: 0.4956056773662567\n",
            "Epoch: 81 / Loss: 0.40366503596305847\n",
            "Epoch: 82 / Loss: 0.3729427754878998\n",
            "Epoch: 83 / Loss: 0.3590214252471924\n",
            "Epoch: 84 / Loss: 0.3492385745048523\n",
            "Epoch: 85 / Loss: 0.34295058250427246\n",
            "Epoch: 86 / Loss: 0.33759987354278564\n",
            "Epoch: 87 / Loss: 0.3332096338272095\n",
            "Epoch: 88 / Loss: 0.32919275760650635\n",
            "Epoch: 89 / Loss: 0.3255481719970703\n",
            "Epoch: 90 / Loss: 0.32211294770240784\n",
            "Epoch: 91 / Loss: 0.31889861822128296\n",
            "Epoch: 92 / Loss: 0.3158209025859833\n",
            "Epoch: 93 / Loss: 0.3128795027732849\n",
            "Epoch: 94 / Loss: 0.31005507707595825\n",
            "Epoch: 95 / Loss: 0.30734845995903015\n",
            "Epoch: 96 / Loss: 0.3047327697277069\n",
            "Epoch: 97 / Loss: 0.3022042512893677\n",
            "Epoch: 98 / Loss: 0.29975274205207825\n",
            "Epoch: 99 / Loss: 0.2973800599575043\n"
          ]
        }
      ]
    },
    {
      "cell_type": "code",
      "source": [
        "y_pred = model(X[:5])\n",
        "y_pred.shape"
      ],
      "metadata": {
        "colab": {
          "base_uri": "https://localhost:8080/"
        },
        "id": "LNjYbUricGUo",
        "outputId": "9db858ad-f824-492c-9bee-403d4f8a5dc8"
      },
      "execution_count": null,
      "outputs": [
        {
          "output_type": "execute_result",
          "data": {
            "text/plain": [
              "torch.Size([5, 10])"
            ]
          },
          "metadata": {},
          "execution_count": 8
        }
      ]
    },
    {
      "cell_type": "code",
      "source": [
        "y_pred.argmax(1)"
      ],
      "metadata": {
        "colab": {
          "base_uri": "https://localhost:8080/"
        },
        "id": "4rOgGfU8rSfD",
        "outputId": "93551f93-5a9c-4634-c425-ce0500acb776"
      },
      "execution_count": null,
      "outputs": [
        {
          "output_type": "execute_result",
          "data": {
            "text/plain": [
              "tensor([5, 0, 4, 1, 9])"
            ]
          },
          "metadata": {},
          "execution_count": 9
        }
      ]
    },
    {
      "cell_type": "code",
      "source": [
        "# 결과적으로 inductive bias를 가진 CNN이 MLP 모델보다 훨씬 적은 parameter에도 비슷한 loss를 기록함."
      ],
      "metadata": {
        "id": "mfg8uxWvrTuh"
      },
      "execution_count": null,
      "outputs": []
    }
  ]
}