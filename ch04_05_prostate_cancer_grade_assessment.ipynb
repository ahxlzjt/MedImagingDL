{
  "metadata": {
    "kernelspec": {
      "language": "python",
      "display_name": "Python 3",
      "name": "python3"
    },
    "language_info": {
      "name": "python",
      "version": "3.10.12",
      "mimetype": "text/x-python",
      "codemirror_mode": {
        "name": "ipython",
        "version": 3
      },
      "pygments_lexer": "ipython3",
      "nbconvert_exporter": "python",
      "file_extension": ".py"
    },
    "kaggle": {
      "accelerator": "none",
      "dataSources": [
        {
          "sourceId": 18647,
          "databundleVersionId": 1126921,
          "sourceType": "competition"
        }
      ],
      "dockerImageVersionId": 30626,
      "isInternetEnabled": true,
      "language": "python",
      "sourceType": "notebook",
      "isGpuEnabled": false
    },
    "colab": {
      "provenance": [],
      "include_colab_link": true
    }
  },
  "nbformat_minor": 0,
  "nbformat": 4,
  "cells": [
    {
      "cell_type": "markdown",
      "metadata": {
        "id": "view-in-github",
        "colab_type": "text"
      },
      "source": [
        "<a href=\"https://colab.research.google.com/github/ahxlzjt/MedImagingDL/blob/CH02_-Medical-Image-Processing-Tasks%2C-Applications%2C-and-Evaluation-metrics/ch04_05_prostate_cancer_grade_assessment.ipynb\" target=\"_parent\"><img src=\"https://colab.research.google.com/assets/colab-badge.svg\" alt=\"Open In Colab\"/></a>"
      ]
    },
    {
      "cell_type": "markdown",
      "source": [
        "# Introduction\n",
        "* 이번시간에서는 가장 data의 학습에서 중요하고 기반이 되어지는 Exploratory Data Analysis(EDA)에 대해서 알아보도록 하겠습니다\n",
        "* Medical image에서 가장 중요한건 image에 대한 특성을 파악하고 feature를 추출하는 기반을 찾는게 중요한데요\n",
        "* 이번 시간에서는 pathology의 data와 label에 대해서 알아보면서 이를 기반으로 Patch까지 적용하여 미리 학습에 적합한 데이터를 만드는 과정까지 진행해보도록 하겠습니다."
      ],
      "metadata": {
        "_uuid": "8f2839f25d086af736a60e9eeb907d3b93b6e0e5",
        "_cell_guid": "b1076dfc-b9ad-4769-8c92-a6c4dae69d19",
        "execution": {
          "iopub.status.busy": "2023-12-03T23:49:27.358773Z",
          "iopub.execute_input": "2023-12-03T23:49:27.359270Z",
          "iopub.status.idle": "2023-12-03T23:49:27.383219Z",
          "shell.execute_reply.started": "2023-12-03T23:49:27.359240Z",
          "shell.execute_reply": "2023-12-03T23:49:27.382209Z"
        },
        "id": "moVfF8Fopqwj"
      }
    },
    {
      "cell_type": "markdown",
      "source": [
        "### Prostate Cancer?\n",
        "전립선에 발생하는 암.  \n",
        "남성에게 가장 흔한 암중에 하나로써 천천히 자라나지만, 급격하게 빠르게 퍼질수도 있다.  \n",
        "암에 대해서 score를 측정하는 것이 중요함으로 이를 gleason score라고 부른다.\n",
        "\n",
        "### GLEASON Score?\n",
        "생검(biopsy)을 통해서 암의 Grade의 정도를 판독하는 지표   \n",
        "Grade가 높을수록 전이가 큰 것을 의미함.  \n",
        "Gleason score은 두 점수를 합하여 2~10까지의 점수로 판독함  \n",
        "\n",
        "\n",
        "### GLEASON score to ISUP grade\n",
        "International Society of Urological Pathology (ISUP) 가이드라인을 통해서 최종 Grade를 정의함.\n",
        "\n",
        "\n",
        "* Gleason score 6 = ISUP grade 1\n",
        "* Gleason score 7 (3 + 4) = ISUP grade 2\n",
        "* Gleason score 7 (4 + 3) = ISUP grade 3\n",
        "* Gleason score 8 = ISUP grade 4\n",
        "* Gleason score 9-10 = ISUP grade 5\n",
        "\n",
        "### How to get GLEASON score ?\n",
        "1. 생검을 하고 난후 조직에 haematoxylin & eosin (H&E)로 염색을 함.\n",
        "2. WSI에서 흰색 구멍이 또는 속이 빈 구조의 경우 GLEASON score로 판독함."
      ],
      "metadata": {
        "execution": {
          "iopub.status.busy": "2023-12-13T05:41:29.998908Z",
          "iopub.execute_input": "2023-12-13T05:41:29.999282Z",
          "iopub.status.idle": "2023-12-13T05:41:30.038583Z",
          "shell.execute_reply.started": "2023-12-13T05:41:29.999248Z",
          "shell.execute_reply": "2023-12-13T05:41:30.037330Z"
        },
        "id": "c06PRAwmpqwl"
      }
    },
    {
      "cell_type": "markdown",
      "source": [
        "# 1. Load image\n",
        "* 이미지를 읽기 위해서 일단 `openslide`를 통한 분석을 진행해도록 한다."
      ],
      "metadata": {
        "id": "Uwl96BFZpqwm"
      }
    },
    {
      "cell_type": "code",
      "source": [
        "!pip install openslide-python"
      ],
      "metadata": {
        "trusted": true,
        "id": "V9dSeEGfpqwm"
      },
      "execution_count": null,
      "outputs": []
    },
    {
      "cell_type": "code",
      "source": [
        "## Path관련 library\n",
        "from pathlib import Path\n",
        "\n",
        "## WSI관련 library\n",
        "import openslide\n",
        "import cv2\n",
        "\n",
        "## etc\n",
        "import pandas as pd\n",
        "import numpy as np\n",
        "import matplotlib.pyplot as plt\n"
      ],
      "metadata": {
        "trusted": true,
        "id": "uJtvAGUppqwn"
      },
      "execution_count": null,
      "outputs": []
    },
    {
      "cell_type": "code",
      "source": [
        "class cfg:\n",
        "    # Location of the training images\n",
        "    BASE_PATH = '../input/prostate-cancer-grade-assessment'\n",
        "    # image and mask directories\n",
        "    data_dir = f'{BASE_PATH}/train_images'\n",
        "    mask_dir = f'{BASE_PATH}/train_label_masks'\n",
        "    train_zip_path = 'train.zip'\n",
        "    mask_zip_path = 'masks.zip'\n",
        "    sz = 256\n",
        "    N = 16\n",
        "\n"
      ],
      "metadata": {
        "trusted": true,
        "id": "4pW8b6uHpqwo"
      },
      "execution_count": null,
      "outputs": []
    },
    {
      "cell_type": "code",
      "source": [
        "# Location of training labels\n",
        "train = pd.read_csv(f'{cfg.BASE_PATH}/train.csv')\n",
        "train.head()"
      ],
      "metadata": {
        "trusted": true,
        "id": "Fe0oRLp_pqwo"
      },
      "execution_count": null,
      "outputs": []
    },
    {
      "cell_type": "code",
      "source": [
        "train['img_path'] = train['image_id'].apply(lambda x : Path(cfg.data_dir)/ (x+'.tiff'))\n",
        "train['mask_path'] = train['image_id'].apply(lambda x : Path(cfg.mask_dir)/ (x+'_mask.tiff'))\n",
        "train.head()"
      ],
      "metadata": {
        "trusted": true,
        "id": "NJ_Jyb5Lpqwp"
      },
      "execution_count": null,
      "outputs": []
    },
    {
      "cell_type": "code",
      "source": [
        "# check NAN value\n",
        "train.isna().sum()"
      ],
      "metadata": {
        "trusted": true,
        "id": "l5WndoNFpqwp"
      },
      "execution_count": null,
      "outputs": []
    },
    {
      "cell_type": "markdown",
      "source": [
        "# 2.EDA\n",
        "* 기본적인 data의 distribution의 정보를 파악하는 것이 몹시 중요!   \n",
        "* 데이터의 따른 학습방법을 설정하고 시험을 진행할수 있음  \n",
        "* dataframe에 대해서 본격적인 분석을 진행을 해보자."
      ],
      "metadata": {
        "id": "bcBK3k5vpqwq"
      }
    },
    {
      "cell_type": "code",
      "source": [
        "import seaborn as sns # data에 대한 distribution등 다양한 feature를 분석하기 위해 사용함."
      ],
      "metadata": {
        "trusted": true,
        "id": "iMcmpbr-pqwq"
      },
      "execution_count": null,
      "outputs": []
    },
    {
      "cell_type": "code",
      "source": [
        "train.head()"
      ],
      "metadata": {
        "trusted": true,
        "id": "g8QioPLOpqwr"
      },
      "execution_count": null,
      "outputs": []
    },
    {
      "cell_type": "markdown",
      "source": [
        "[링크 텍스트](https:// [링크 텍스트](https://))seaborn의 color나 plot을 이쁘게 해주기 위해서 setting건들여보자"
      ],
      "metadata": {
        "id": "JgBivXxUpqwr"
      }
    },
    {
      "cell_type": "code",
      "source": [
        "# Save a palette to a variable:\n",
        "palette = sns.color_palette(\"Set2\")\n",
        "\n",
        "# Use palplot and pass in the variable:\n",
        "sns.set_palette(\"Set2\")"
      ],
      "metadata": {
        "trusted": true,
        "id": "gHUR3BZApqwr"
      },
      "execution_count": null,
      "outputs": []
    },
    {
      "cell_type": "code",
      "source": [
        "# 우선적으로 data provider즉 data가 2가지 정도 있는데 이는 몇개의 이미지가 있는지 분석해보자.\n",
        "sns.countplot(x=\"data_provider\", data=train)\n",
        "# 그림의 결과 차이는 별로 없음으로 괜찮음."
      ],
      "metadata": {
        "trusted": true,
        "id": "2bs82Mkjpqwr"
      },
      "execution_count": null,
      "outputs": []
    },
    {
      "cell_type": "code",
      "source": [
        "# 계속하여 gt의 label은 균등하게 분포가 되어있는지 보자.\n",
        "\n",
        "fig, axs= plt.subplots(1,2,figsize=(15,6))\n",
        "sns.countplot(y=\"gleason_score\", data=train, ax=axs[0])\n",
        "axs[0].set_title('gleason_score')\n",
        "sns.countplot(y=\"gleason_score\", hue=\"data_provider\", data=train, ax=axs[1])\n",
        "axs[1].set_title('gleason_score by data provider')\n"
      ],
      "metadata": {
        "trusted": true,
        "id": "vnG_zVC8pqwr"
      },
      "execution_count": null,
      "outputs": []
    },
    {
      "cell_type": "code",
      "source": [
        "fig, axs= plt.subplots(1,2,figsize=(10,6))\n",
        "sns.countplot(x=\"isup_grade\", data=train, ax=axs[0])\n",
        "axs[0].set_title('isup grade')\n",
        "sns.countplot(x=\"isup_grade\", hue=\"data_provider\", data=train, ax=axs[1])\n",
        "axs[1].set_title('isup grade by data provider')\n"
      ],
      "metadata": {
        "trusted": true,
        "id": "XWwf8hY2pqwr"
      },
      "execution_count": null,
      "outputs": []
    },
    {
      "cell_type": "code",
      "source": [
        "## group마다 distribution을 살펴보자\n",
        "data = [[\"Gleason Score\", \"ISUP Grade\"],\n",
        "        [\"0+0\", \"0\"], [\"negative\", \"0\"],\n",
        "        [\"3+3\", \"1\"], [\"3+4\", \"2\"], [\"4+3\", \"3\"],\n",
        "        [\"4+4\", \"4\"], [\"3+5\", \"4\"], [\"5+3\", \"4\"],\n",
        "        [\"4+5\", \"5\"], [\"5+4\", \"5\"], [\"5+5\", \"5\"],\n",
        "        ]## show sample images\n",
        "\n",
        "tmp = train.groupby('data_provider')['gleason_score'].value_counts()\n",
        "df = pd.DataFrame(data={'Exams': tmp.values}, index=tmp.index).reset_index()"
      ],
      "metadata": {
        "trusted": true,
        "id": "Y9_McXx0pqwt"
      },
      "execution_count": null,
      "outputs": []
    },
    {
      "cell_type": "code",
      "source": [
        "fig, axs= plt.subplots(1,2,figsize=(15,6))\n",
        "sns.barplot(x = 'data_provider', y='Exams',hue='gleason_score',data=df, ax=axs[0])\n",
        "sns.countplot(y=\"gleason_score\", data=train, ax=axs[1])"
      ],
      "metadata": {
        "trusted": true,
        "id": "vYKpOXDXpqwt"
      },
      "execution_count": null,
      "outputs": []
    },
    {
      "cell_type": "markdown",
      "source": [
        "#### result\n",
        "위와 같이 살펴본결과 `karolinska`의 경우는 `negative, low score`일때 데이터가 많았으며   \n",
        "`radboud`의 경우에서는 `high score`이 데이터가 일반적으로 많았다.  \n",
        "또한 최종적으로 전체 데이터에서는 `3+3`의 데이터가 많았고 `3+5`의 데이터는 작았는데 이를 통해서 fold의 나눔에 도움을 줄것이다."
      ],
      "metadata": {
        "id": "Nq4wk7ztpqwt"
      }
    },
    {
      "cell_type": "markdown",
      "source": [
        "# 3. Load image and Anylsis\n",
        "* 데이터를 분포를 파악했으니 이제 smaple이미지를 읽어보고 이를 어떻게 처리할지에 대해서 살펴보자.\n",
        "1. data provider 마다 sample image를 읽어보기\n",
        "2. Gleason score마다 data읽어보기\n",
        "3. mask annoation과 함께 읽어보기\n",
        "4. mask와 함께 데이터 tiling을 해보기"
      ],
      "metadata": {
        "id": "2PojvBrepqwt"
      }
    },
    {
      "cell_type": "code",
      "source": [
        "def multi_plot(df, region=(0,0), level=-1, crop_size=(256,256)):\n",
        "    f, ax = plt.subplots(3,3, figsize=(15,15))\n",
        "    for i, row in enumerate(df.itertuples()):\n",
        "        image = openslide.OpenSlide(row.img_path)\n",
        "        slevel = image.level_count -1 if level == -1 else level\n",
        "        patch = image.read_region(region, slevel, crop_size)\n",
        "        ax[i//3, i%3].imshow(patch)\n",
        "        image.close()\n",
        "        ax[i//3, i%3].axis('off')\n",
        "\n",
        "        image_id = row.image_id\n",
        "        data_provider = row.data_provider\n",
        "        isup_grade = row.isup_grade\n",
        "        gleason_score = row.gleason_score\n",
        "        ax[i//3, i%3].set_title(f\"ID: {image_id}\\nSource: {data_provider} ISUP: {isup_grade} Gleason: {gleason_score}\")\n",
        "\n",
        "    plt.show()"
      ],
      "metadata": {
        "trusted": true,
        "id": "ib1J2H3Fpqwu"
      },
      "execution_count": null,
      "outputs": []
    },
    {
      "cell_type": "code",
      "source": [
        "sample_df = train.sample(9)\n",
        "multi_plot(sample_df)"
      ],
      "metadata": {
        "trusted": true,
        "id": "jjbVkPXJpqwu"
      },
      "execution_count": null,
      "outputs": []
    },
    {
      "cell_type": "code",
      "source": [
        "id_list = [\n",
        "    '037504061b9fba71ef6e24c48c6df44d',\n",
        "    '035b1edd3d1aeeffc77ce5d248a01a53',\n",
        "    '059cbf902c5e42972587c8d17d49efed',\n",
        "    '06a0cbd8fd6320ef1aa6f19342af2e68',\n",
        "    '06eda4a6faca84e84a781fee2d5f47e1',\n",
        "    '0a4b7a7499ed55c71033cefb0765e93d',\n",
        "    '0838c82917cd9af681df249264d2769c',\n",
        "    '046b35ae95374bfb48cdca8d7c83233f',\n",
        "    '074c3e01525681a275a42282cd21cbde',]\n",
        "\n",
        "slect_df = train[train['image_id'].isin(id_list)]"
      ],
      "metadata": {
        "trusted": true,
        "id": "4kA0ELVHpqwu"
      },
      "execution_count": null,
      "outputs": []
    },
    {
      "cell_type": "code",
      "source": [
        "multi_plot(slect_df, (1780,1950), 0, (256,256))"
      ],
      "metadata": {
        "trusted": true,
        "id": "7NKkeohOpqwu"
      },
      "execution_count": null,
      "outputs": []
    },
    {
      "cell_type": "code",
      "source": [
        "import matplotlib\n",
        "def mask_multi_plot(df, region=(0,0), level=-1, crop_size=(256,256)):\n",
        "    f, ax = plt.subplots(3,3, figsize=(15,15))\n",
        "    for i, row in enumerate(df.itertuples()):\n",
        "        image = openslide.OpenSlide(row.mask_path)\n",
        "        slevel = image.level_count -1 if level == -1 else level\n",
        "        patch = image.read_region(region, slevel, crop_size)\n",
        "        cmap = matplotlib.colors.ListedColormap(['black', 'gray', 'green', 'yellow', 'orange', 'red'])\n",
        "        ax[i//3, i%3].imshow(np.asarray(patch)[:,:,0], cmap=cmap, interpolation='nearest', vmin=0, vmax=5)\n",
        "        image.close()\n",
        "        ax[i//3, i%3].axis('off')\n",
        "\n",
        "        image_id = row.image_id\n",
        "        data_provider = row.data_provider\n",
        "        isup_grade = row.isup_grade\n",
        "        gleason_score = row.gleason_score\n",
        "        ax[i//3, i%3].set_title(f\"ID: {image_id}\\nSource: {data_provider} ISUP: {isup_grade} Gleason: {gleason_score}\")\n",
        "\n",
        "    plt.show()"
      ],
      "metadata": {
        "trusted": true,
        "id": "8zoONCkOpqwu"
      },
      "execution_count": null,
      "outputs": []
    },
    {
      "cell_type": "code",
      "source": [
        "mask_multi_plot(sample_df)"
      ],
      "metadata": {
        "trusted": true,
        "id": "V_FahGK8pqwu"
      },
      "execution_count": null,
      "outputs": []
    },
    {
      "cell_type": "code",
      "source": [
        "mask_multi_plot(slect_df, (1780,1950), 0, (256,256))"
      ],
      "metadata": {
        "trusted": true,
        "id": "C439RFCMpqwu"
      },
      "execution_count": null,
      "outputs": []
    },
    {
      "cell_type": "code",
      "source": [
        "import PIL\n",
        "#https://www.kaggle.com/code/spidyweb/prostate-cancer-panda-insight-eda## reference :\n",
        "def override_image(df, region=(0,0), level=-1, crop_size=(256,256), center='radboud', alpha=0.8, max_size=(800, 800)):\n",
        "    f, ax = plt.subplots(3,3, figsize=(15,15))\n",
        "    for i, row in enumerate(df.itertuples()):\n",
        "\n",
        "        slide = openslide.OpenSlide(row.img_path)\n",
        "        mask = openslide.OpenSlide(row.mask_path)\n",
        "        slevel = slide.level_count -1 if level == -1 else level\n",
        "        slide_data = slide.read_region(region, slevel, crop_size)\n",
        "        mask_data = mask.read_region(region, slevel, crop_size)\n",
        "        mask_data = mask_data.split()[0]\n",
        "\n",
        "\n",
        "        # Create alpha mask\n",
        "        alpha_int = int(round(255*alpha))\n",
        "        if center == 'radboud':\n",
        "            alpha_content = np.less(mask_data.split()[0], 2).astype('uint8') * alpha_int + (255 - alpha_int)\n",
        "        elif center == 'karolinska':\n",
        "            alpha_content = np.less(mask_data.split()[0], 1).astype('uint8') * alpha_int + (255 - alpha_int)\n",
        "\n",
        "        alpha_content = PIL.Image.fromarray(alpha_content)\n",
        "        preview_palette = np.zeros(shape=768, dtype=int)\n",
        "\n",
        "        if center == 'radboud':\n",
        "            # Mapping: {0: background, 1: stroma, 2: benign epithelium, 3: Gleason 3, 4: Gleason 4, 5: Gleason 5}\n",
        "            preview_palette[0:18] = (np.array([0, 0, 0, 0.5, 0.5, 0.5, 0, 1, 0, 1, 1, 0.7, 1, 0.5, 0, 1, 0, 0]) * 255).astype(int)\n",
        "        elif center == 'karolinska':\n",
        "            # Mapping: {0: background, 1: benign, 2: cancer}\n",
        "            preview_palette[0:9] = (np.array([0, 0, 0, 0, 1, 0, 1, 0, 0]) * 255).astype(int)\n",
        "\n",
        "        mask_data.putpalette(data=preview_palette.tolist())\n",
        "        mask_rgb = mask_data.convert(mode='RGB')\n",
        "        overlayed_image = PIL.Image.composite(image1=slide_data, image2=mask_rgb, mask=alpha_content)\n",
        "        overlayed_image.thumbnail(size=max_size, resample=0)\n",
        "\n",
        "\n",
        "        ax[i//3, i%3].imshow(overlayed_image)\n",
        "        slide.close()\n",
        "        mask.close()\n",
        "        ax[i//3, i%3].axis('off')\n",
        "\n",
        "        image_id = row.image_id\n",
        "        data_provider = row.data_provider\n",
        "        isup_grade = row.isup_grade\n",
        "        gleason_score = row.gleason_score\n",
        "        ax[i//3, i%3].set_title(f\"ID: {image_id}\\nSource: {data_provider} ISUP: {isup_grade} Gleason: {gleason_score}\")\n"
      ],
      "metadata": {
        "trusted": true,
        "id": "_0HVhSlQpqwu"
      },
      "execution_count": null,
      "outputs": []
    },
    {
      "cell_type": "code",
      "source": [
        "override_image(sample_df)"
      ],
      "metadata": {
        "trusted": true,
        "id": "ka0lO5Pepqwv"
      },
      "execution_count": null,
      "outputs": []
    },
    {
      "cell_type": "code",
      "source": [
        "override_image(slect_df, (1780,1950), 0, (256,256))"
      ],
      "metadata": {
        "trusted": true,
        "id": "XA--sbdkpqwv"
      },
      "execution_count": null,
      "outputs": []
    },
    {
      "cell_type": "code",
      "source": [
        "def print_slide_details(slide, show_thumbnail=True, max_size=(600,400)):\n",
        "    \"\"\"Print some basic information about a slide\"\"\"\n",
        "    # Generate a small image thumbnail\n",
        "    if show_thumbnail:\n",
        "        display(slide.get_thumbnail(size=max_size))\n",
        "\n",
        "    # Here we compute the \"pixel spacing\": the physical size of a pixel in the image.\n",
        "    # OpenSlide gives the resolution in centimeters so we convert this to microns.\n",
        "    spacing = 1 / (float(slide.properties['tiff.XResolution']) / 10000)\n",
        "\n",
        "    print(f\"File id: {slide}\")\n",
        "    print(f\"Dimensions: {slide.dimensions}\")\n",
        "    print(f\"Microns per pixel / pixel spacing: {spacing:.3f}\")\n",
        "    print(f\"Number of levels in the image: {slide.level_count}\")\n",
        "    print(f\"Downsample factor per level: {slide.level_downsamples}\")\n",
        "    print(f\"Dimensions of levels: {slide.level_dimensions}\")"
      ],
      "metadata": {
        "trusted": true,
        "id": "YGRz3jpPpqwv"
      },
      "execution_count": null,
      "outputs": []
    },
    {
      "cell_type": "code",
      "source": [
        "for row in sample_df.itertuples():\n",
        "    biopsy = openslide.OpenSlide(row.img_path)\n",
        "    print_slide_details(biopsy)\n",
        "    biopsy.close()\n",
        "    break"
      ],
      "metadata": {
        "trusted": true,
        "id": "Yfpsfi40pqwv"
      },
      "execution_count": null,
      "outputs": []
    },
    {
      "cell_type": "markdown",
      "source": [
        "## Get all meta data"
      ],
      "metadata": {
        "id": "0NHTp-mrpqwv"
      }
    },
    {
      "cell_type": "code",
      "source": [
        "from tqdm import tqdm\n",
        "meta_dict = {'width':[], 'height':[], 'spacing':[], 'level_count':[]}\n",
        "for row in tqdm(train.itertuples(), total=len(train)):\n",
        "    slide = openslide.OpenSlide(row.img_path)\n",
        "\n",
        "    spacing = 1 / (float(slide.properties['tiff.XResolution']) / 10000)\n",
        "\n",
        "    meta_dict['width'].append(slide.dimensions[0])\n",
        "    meta_dict['height'].append(slide.dimensions[1])\n",
        "    meta_dict['spacing'].append(spacing)\n",
        "    meta_dict['level_count'].append(slide.level_count)\n"
      ],
      "metadata": {
        "trusted": true,
        "id": "uZHGn9M-pqwv"
      },
      "execution_count": null,
      "outputs": []
    },
    {
      "cell_type": "code",
      "source": [
        "train_df = pd.concat([train, pd.DataFrame(meta_dict)], axis=1)"
      ],
      "metadata": {
        "trusted": true,
        "id": "RU4mGJa6pqwv"
      },
      "execution_count": null,
      "outputs": []
    },
    {
      "cell_type": "code",
      "source": [
        "fig = plt.figure(figsize=(12,6))\n",
        "ax = sns.scatterplot(x='width', y='height', data=train_df, alpha=0.3)\n",
        "plt.title(\"height(y) width(x) scatter plot\")\n",
        "plt.show()"
      ],
      "metadata": {
        "trusted": true,
        "id": "zFQGlAgopqwv"
      },
      "execution_count": null,
      "outputs": []
    },
    {
      "cell_type": "code",
      "source": [
        "fig = plt.figure(figsize=(12, 6))\n",
        "ax = sns.scatterplot(x='width', y='height', hue='isup_grade', data=train_df, alpha=0.6)\n",
        "plt.title(\"height(y) width(x) scatter plot with target\")\n",
        "plt.show()"
      ],
      "metadata": {
        "trusted": true,
        "id": "V8FgjfDLpqww"
      },
      "execution_count": null,
      "outputs": []
    },
    {
      "cell_type": "markdown",
      "source": [
        "## Make tile"
      ],
      "metadata": {
        "id": "7pVwepEypqw0"
      }
    },
    {
      "cell_type": "code",
      "source": [
        "\n",
        "def tile(img, mask):\n",
        "    result = []\n",
        "    shape = img.shape\n",
        "    pad0,pad1 = (cfg.sz - shape[0]%cfg.sz)%cfg.sz, (cfg.sz - shape[1]%cfg.sz)%cfg.sz\n",
        "    img = np.pad(img,[[pad0//2,pad0-pad0//2],[pad1//2,pad1-pad1//2],[0,0]],\n",
        "                constant_values=255)\n",
        "    mask = np.pad(mask,[[pad0//2,pad0-pad0//2],[pad1//2,pad1-pad1//2],[0,0]],\n",
        "                constant_values=0)\n",
        "    img = img.reshape(img.shape[0]//cfg.sz,cfg.sz,img.shape[1]//cfg.sz,cfg.sz,3)\n",
        "    img = img.transpose(0,2,1,3,4).reshape(-1,cfg.sz,cfg.sz,3)\n",
        "    mask = mask.reshape(mask.shape[0]//cfg.sz,cfg.sz,mask.shape[1]//cfg.sz,cfg.sz,3)\n",
        "    mask = mask.transpose(0,2,1,3,4).reshape(-1,cfg.sz,cfg.sz,3)\n",
        "    if len(img) < cfg.N:\n",
        "        mask = np.pad(mask,[[0,cfg.N-len(img)],[0,0],[0,0],[0,0]],constant_values=0)\n",
        "        img = np.pad(img,[[0,cfg.N-len(img)],[0,0],[0,0],[0,0]],constant_values=255)\n",
        "    idxs = np.argsort(img.reshape(img.shape[0],-1).sum(-1))[:cfg.N]\n",
        "    img = img[idxs]\n",
        "    mask = mask[idxs]\n",
        "    for i in range(len(img)):\n",
        "        result.append({'img':img[i], 'mask':mask[i], 'idx':i})\n",
        "    return result\n"
      ],
      "metadata": {
        "trusted": true,
        "id": "jCRegzOxpqw0"
      },
      "execution_count": null,
      "outputs": []
    },
    {
      "cell_type": "code",
      "source": [
        "import zipfile\n",
        "import skimage\n",
        "def save_image(row):\n",
        "    img = skimage.io.MultiImage(str(row.img_path))[-1]\n",
        "    mask = skimage.io.MultiImage(str(row.mask_path))[-1]\n",
        "    tiles = tile(img,mask)\n",
        "    for t in tiles:\n",
        "        img,mask,idx = t['img'],t['mask'],t['idx']\n",
        "        x_tot.append((img/255.0).reshape(-1,3).mean(0))\n",
        "        x2_tot.append(((img/255.0)**2).reshape(-1,3).mean(0))\n",
        "        #if read with PIL RGB turns into BGR\n",
        "        img = cv2.imencode('.png',cv2.cvtColor(img, cv2.COLOR_RGB2BGR))[1]\n",
        "        img_out.writestr(f'{row.image_id}_{idx}.png', img)\n",
        "        mask = cv2.imencode('.png',mask[:,:,0])[1]\n",
        "        mask_out.writestr(f'{row.image_id}_{idx}.png', mask)\n"
      ],
      "metadata": {
        "trusted": true,
        "id": "eJy9iJwOpqw0"
      },
      "execution_count": null,
      "outputs": []
    },
    {
      "cell_type": "code",
      "source": [
        "from joblib import Parallel, delayed\n",
        "faster = False\n",
        "x_tot,x2_tot = [],[]\n",
        "with zipfile.ZipFile(cfg.train_zip_path, 'w') as img_out,\\\n",
        " zipfile.ZipFile(cfg.mask_zip_path, 'w') as mask_out:\n",
        "    pbar = tqdm(train_df.itertuples(), total=len(train_df))\n",
        "    [save_image(row) for row in pbar]"
      ],
      "metadata": {
        "trusted": true,
        "id": "6lv-dktGpqw1"
      },
      "execution_count": null,
      "outputs": []
    },
    {
      "cell_type": "code",
      "source": [
        "#image stats\n",
        "img_avr =  np.array(x_tot).mean(0)\n",
        "img_std =  np.sqrt(np.array(x2_tot).mean(0) - img_avr**2)\n",
        "print('mean:',img_avr, ', std:', np.sqrt(img_std))"
      ],
      "metadata": {
        "trusted": true,
        "id": "LGFzNuTepqw1"
      },
      "execution_count": null,
      "outputs": []
    }
  ]
}