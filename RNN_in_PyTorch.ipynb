{
  "nbformat": 4,
  "nbformat_minor": 0,
  "metadata": {
    "colab": {
      "provenance": [],
      "gpuType": "T4",
      "include_colab_link": true
    },
    "kernelspec": {
      "name": "python3",
      "display_name": "Python 3"
    },
    "language_info": {
      "name": "python"
    },
    "accelerator": "GPU"
  },
  "cells": [
    {
      "cell_type": "markdown",
      "metadata": {
        "id": "view-in-github",
        "colab_type": "text"
      },
      "source": [
        "<a href=\"https://colab.research.google.com/github/ahxlzjt/MedImagingDL/blob/CH01_Deep-Learning-Basic/RNN_in_PyTorch.ipynb\" target=\"_parent\"><img src=\"https://colab.research.google.com/assets/colab-badge.svg\" alt=\"Open In Colab\"/></a>"
      ]
    },
    {
      "cell_type": "code",
      "execution_count": null,
      "metadata": {
        "id": "kAO-CWKKiMHZ"
      },
      "outputs": [],
      "source": [
        "import torch\n",
        "import torch.nn as nn\n",
        "import torchvision.transforms as transforms\n",
        "import torchvision.datasets as dset"
      ]
    },
    {
      "cell_type": "code",
      "source": [
        "train_dataset = dset.MNIST(root='.',\n",
        "                           train=True,\n",
        "                           transform=transforms.ToTensor(),\n",
        "                           download=True)\n",
        "\n",
        "test_dataset = dset.MNIST(root='.',\n",
        "                          train=False,\n",
        "                          transform=transforms.ToTensor())"
      ],
      "metadata": {
        "id": "7WY_ADdcivGv"
      },
      "execution_count": null,
      "outputs": []
    },
    {
      "cell_type": "code",
      "source": [
        "batch_size = 100\n",
        "\n",
        "train_loader = torch.utils.data.DataLoader(dataset=train_dataset,\n",
        "                                           batch_size=batch_size,\n",
        "                                           shuffle=True)\n",
        "\n",
        "test_loader = torch.utils.data.DataLoader(dataset=test_dataset,\n",
        "                                          batch_size=batch_size,\n",
        "                                          shuffle=False)"
      ],
      "metadata": {
        "id": "cetVaacAivlK"
      },
      "execution_count": null,
      "outputs": []
    },
    {
      "cell_type": "code",
      "source": [
        "# RNN은 자연어 처리에서 많이 사용됨. (영상 처리에는 잘 사용 x)\n",
        "#  Classification이 목적.\n",
        "\n",
        "# RNN 모델의 구성\n",
        "#  RNN layer 1개, 마지막으로 FC layer를 이용하여 classification하는 구조.\n",
        "#  RNN layer는 hidden state를 크기를 조정하기 위하여 hidden dim이라는 인자를 받음.\n",
        "#  batch first는 data를 구성할 때, 가장 첫 번째 차원을 batch 차원이라고 입력하기 위함.\n",
        "#  hidden state를 계산할 때, 비정형 연산을 추가하기 위해 Relu 활성화 함수를 사용.\n",
        "#  FC layer는 hidden dim의 크기를 가지는 입력 받고, output dim의 크기를 가지는 출력.\n",
        "#  hidden state는 맨 처음에는 계산 불가로 처음에는 임의의 값 설정(0인 vector)\n",
        "#  -> 어떤 입력이 들어오게 되면 RNN 모델을 이용하여 hidden state를 업데이트하고,\n",
        "#  출력을 만들어낸 후, FC layer에 입력하여 최종적으로 classification 결과를 업데이트.\n",
        "\n",
        "class RNNModel(nn.Module):\n",
        "    def __init__(self, input_dim, hidden_dim, layer_dim, output_dim):\n",
        "        super(RNNModel, self).__init__()\n",
        "        self.hidden_dim = hidden_dim\n",
        "        self.layer_dim = layer_dim\n",
        "\n",
        "        self.rnn = nn.RNN(input_dim, hidden_dim, layer_dim, batch_first=True, nonlinearity='relu')\n",
        "        self.fc = nn.Linear(hidden_dim, output_dim)\n",
        "\n",
        "    def forward(self, x):\n",
        "        h0 = torch.zeros(self.layer_dim, x.size(0), self.hidden_dim).to(x.device)\n",
        "\n",
        "        out, hn = self.rnn(x, h0)\n",
        "\n",
        "        out = self.fc(out[:, -1, :])\n",
        "\n",
        "        return out"
      ],
      "metadata": {
        "id": "AxsCBNUJjWd0"
      },
      "execution_count": null,
      "outputs": []
    },
    {
      "cell_type": "code",
      "source": [
        "input_dim = 28\n",
        "hidden_dim = 100\n",
        "layer_dim = 1\n",
        "output_dim = 10\n",
        "device = torch.device(\"cuda:0\" if torch.cuda.is_available() else \"cpu\")\n",
        "\n",
        "model = RNNModel(input_dim, hidden_dim, layer_dim, output_dim).to(device)"
      ],
      "metadata": {
        "id": "ejmD9HkAkEI3"
      },
      "execution_count": null,
      "outputs": []
    },
    {
      "cell_type": "code",
      "source": [
        "criterion = nn.CrossEntropyLoss()"
      ],
      "metadata": {
        "id": "EKLcBP24kF_m"
      },
      "execution_count": null,
      "outputs": []
    },
    {
      "cell_type": "code",
      "source": [
        "learning_rate = 0.01\n",
        "\n",
        "optimizer = torch.optim.SGD(model.parameters(), lr=learning_rate)"
      ],
      "metadata": {
        "id": "kD__kG1rkJ94"
      },
      "execution_count": null,
      "outputs": []
    },
    {
      "cell_type": "code",
      "source": [
        "# 학습 코드\n",
        "#  이미지를 input dim, input dim으로 하는 차원으로 view를 통해 바꿔줌\n",
        "#  -> mnist image가 flatten 되어있는 것에 대비하여 본래대로 변환하는 역할\n",
        "\n",
        "num_epochs = 20\n",
        "\n",
        "\n",
        "for epoch in range(num_epochs):\n",
        "    model.train()\n",
        "    for images, labels in train_loader:\n",
        "        images = images.to(device)\n",
        "        labels = labels.to(device)\n",
        "\n",
        "        images = images.view(-1, input_dim, input_dim)\n",
        "\n",
        "        optimizer.zero_grad()\n",
        "        outputs = model(images)\n",
        "        loss = criterion(outputs, labels)\n",
        "\n",
        "        loss.backward()\n",
        "        optimizer.step()\n",
        "\n",
        "    model.eval()\n",
        "    correct = 0\n",
        "    total = 0\n",
        "    for images, labels in test_loader:\n",
        "        images = images.to(device)\n",
        "        labels = labels.to(device)\n",
        "\n",
        "        images = images.view(-1, 28, input_dim)\n",
        "\n",
        "        outputs = model(images)\n",
        "        _, predicted = torch.max(outputs.data, 1)\n",
        "\n",
        "        total += labels.size(0)\n",
        "        correct += (predicted == labels).sum()\n",
        "\n",
        "    accuracy = 100 * correct / total\n",
        "\n",
        "    print('Epoch: {}. Loss: {}. Accuracy: {}'.format(epoch, loss.item(), accuracy))"
      ],
      "metadata": {
        "id": "Wn-ypAVGkOOS",
        "colab": {
          "base_uri": "https://localhost:8080/"
        },
        "outputId": "6dc8c7ab-2855-4ac7-e742-6f8d1760bb05"
      },
      "execution_count": null,
      "outputs": [
        {
          "output_type": "stream",
          "name": "stdout",
          "text": [
            "Epoch: 0. Loss: 2.293511152267456. Accuracy: 19.809999465942383\n",
            "Epoch: 1. Loss: 2.2594332695007324. Accuracy: 19.459999084472656\n",
            "Epoch: 2. Loss: 1.3639010190963745. Accuracy: 55.28999710083008\n",
            "Epoch: 3. Loss: 1.1228222846984863. Accuracy: 71.29000091552734\n",
            "Epoch: 4. Loss: 1.0093928575515747. Accuracy: 75.12999725341797\n",
            "Epoch: 5. Loss: 0.47615233063697815. Accuracy: 82.68000030517578\n",
            "Epoch: 6. Loss: 0.5150405168533325. Accuracy: 83.18999481201172\n",
            "Epoch: 7. Loss: 0.2995639145374298. Accuracy: 82.41999816894531\n",
            "Epoch: 8. Loss: 0.36420580744743347. Accuracy: 89.5199966430664\n",
            "Epoch: 9. Loss: 0.2922385334968567. Accuracy: 90.5\n",
            "Epoch: 10. Loss: 0.17149147391319275. Accuracy: 92.6199951171875\n",
            "Epoch: 11. Loss: 0.21500307321548462. Accuracy: 93.11000061035156\n",
            "Epoch: 12. Loss: 0.18573856353759766. Accuracy: 94.11000061035156\n",
            "Epoch: 13. Loss: 0.12494295835494995. Accuracy: 94.43999481201172\n",
            "Epoch: 14. Loss: 0.2083677351474762. Accuracy: 95.18000030517578\n",
            "Epoch: 15. Loss: 0.2874150574207306. Accuracy: 95.38999938964844\n",
            "Epoch: 16. Loss: 0.2283715456724167. Accuracy: 95.25\n",
            "Epoch: 17. Loss: 0.07848966866731644. Accuracy: 96.13999938964844\n",
            "Epoch: 18. Loss: 0.15166784822940826. Accuracy: 95.87999725341797\n",
            "Epoch: 19. Loss: 0.13572582602500916. Accuracy: 95.47999572753906\n"
          ]
        }
      ]
    }
  ]
}